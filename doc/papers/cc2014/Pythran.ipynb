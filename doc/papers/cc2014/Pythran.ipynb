{
 "metadata": {
  "name": "Pythran"
 },
 "nbformat": 3,
 "nbformat_minor": 0,
 "worksheets": [
  {
   "cells": [
    {
     "cell_type": "heading",
     "level": 1,
     "metadata": {},
     "source": [
      "Pythran: Turning Python Modules into Optimized C++ Meta-Programs"
     ]
    },
    {
     "cell_type": "markdown",
     "metadata": {},
     "source": [
      "Serge Guelton ``<serge.guelton@telecom-bretagne.eu>`` and Pierrick Brunet ``<pierrick.brunet@telecom-bretagne.eu>``"
     ]
    },
    {
     "cell_type": "heading",
     "level": 2,
     "metadata": {},
     "source": [
      "Getting Started"
     ]
    },
    {
     "cell_type": "markdown",
     "metadata": {},
     "source": [
      "Let's begin with a simple Python file:"
     ]
    },
    {
     "cell_type": "code",
     "collapsed": false,
     "input": [
      "%%file hello.py\n",
      "def hello(someone):\n",
      "    print 'hello', someone"
     ],
     "language": "python",
     "metadata": {},
     "outputs": [
      {
       "output_type": "stream",
       "stream": "stdout",
       "text": [
        "Writing hello.py\n"
       ]
      }
     ],
     "prompt_number": 1
    },
    {
     "cell_type": "markdown",
     "metadata": {},
     "source": [
      "And turn it into C++ code using the Pythran CLI:"
     ]
    },
    {
     "cell_type": "code",
     "collapsed": false,
     "input": [
      "!pythran -v -e hello.py"
     ],
     "language": "python",
     "metadata": {},
     "outputs": [
      {
       "output_type": "stream",
       "stream": "stdout",
       "text": [
        "\u001b[32mINFO    \u001b[39;49;0m \u001b[34mGenerated C++ source file: hello.cpp\u001b[39;49;0m\r\n"
       ]
      }
     ],
     "prompt_number": 2
    },
    {
     "cell_type": "code",
     "collapsed": false,
     "input": [
      "!cat hello.cpp"
     ],
     "language": "python",
     "metadata": {},
     "outputs": [
      {
       "output_type": "stream",
       "stream": "stdout",
       "text": [
        "#include <pythran/pythran.h>\r\n",
        "namespace __pythran_hello\r\n",
        "{\r\n",
        "  ;\r\n",
        "  ;\r\n",
        "  struct hello\r\n",
        "  {\r\n",
        "    typedef void callable;\r\n",
        "    template <typename argument_type0 >\r\n",
        "    struct type\r\n",
        "    {\r\n",
        "      typedef typename assignable<typename std::remove_cv<typename std::remove_reference<decltype(__builtin__::None)>::type>::type>::type result_type;\r\n",
        "    }  \r\n",
        "    ;\r\n",
        "    template <typename argument_type0 >\r\n",
        "    typename type<argument_type0>::result_type operator()(argument_type0 const & someone) const\r\n",
        "    ;\r\n",
        "  }  ;\r\n",
        "  template <typename argument_type0 >\r\n",
        "  typename hello::type<argument_type0>::result_type hello::operator()(argument_type0 const & someone) const\r\n",
        "  {\r\n",
        "    print(core::string(\"hello\"), someone);\r\n",
        "    return __builtin__::None;\r\n",
        "  }\r\n",
        "}"
       ]
      }
     ],
     "prompt_number": 3
    },
    {
     "cell_type": "code",
     "collapsed": false,
     "input": [],
     "language": "python",
     "metadata": {},
     "outputs": []
    }
   ],
   "metadata": {}
  }
 ]
}